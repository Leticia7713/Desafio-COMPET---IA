{
  "cells": [
    {
      "cell_type": "code",
      "execution_count": 1,
      "id": "006a9006",
      "metadata": {
        "id": "006a9006",
        "colab": {
          "base_uri": "https://localhost:8080/",
          "height": 321
        },
        "outputId": "b008bf16-6379-4467-9f5f-881364c8bed6"
      },
      "outputs": [
        {
          "output_type": "error",
          "ename": "FileNotFoundError",
          "evalue": "[Errno 2] No such file or directory: 'diabetes_prediction_dataset.csv'",
          "traceback": [
            "\u001b[0;31m---------------------------------------------------------------------------\u001b[0m",
            "\u001b[0;31mFileNotFoundError\u001b[0m                         Traceback (most recent call last)",
            "\u001b[0;32m<ipython-input-1-f78b86ac0678>\u001b[0m in \u001b[0;36m<cell line: 0>\u001b[0;34m()\u001b[0m\n\u001b[1;32m      2\u001b[0m \u001b[0;34m\u001b[0m\u001b[0m\n\u001b[1;32m      3\u001b[0m \u001b[0;31m# Carregar o arquivo CSV do dataset em um DataFrame pandas\u001b[0m\u001b[0;34m\u001b[0m\u001b[0;34m\u001b[0m\u001b[0m\n\u001b[0;32m----> 4\u001b[0;31m \u001b[0mdataset\u001b[0m \u001b[0;34m=\u001b[0m \u001b[0mpd\u001b[0m\u001b[0;34m.\u001b[0m\u001b[0mread_csv\u001b[0m\u001b[0;34m(\u001b[0m\u001b[0;34m'diabetes_prediction_dataset.csv'\u001b[0m\u001b[0;34m)\u001b[0m\u001b[0;34m\u001b[0m\u001b[0;34m\u001b[0m\u001b[0m\n\u001b[0m",
            "\u001b[0;32m/usr/local/lib/python3.11/dist-packages/pandas/io/parsers/readers.py\u001b[0m in \u001b[0;36mread_csv\u001b[0;34m(filepath_or_buffer, sep, delimiter, header, names, index_col, usecols, dtype, engine, converters, true_values, false_values, skipinitialspace, skiprows, skipfooter, nrows, na_values, keep_default_na, na_filter, verbose, skip_blank_lines, parse_dates, infer_datetime_format, keep_date_col, date_parser, date_format, dayfirst, cache_dates, iterator, chunksize, compression, thousands, decimal, lineterminator, quotechar, quoting, doublequote, escapechar, comment, encoding, encoding_errors, dialect, on_bad_lines, delim_whitespace, low_memory, memory_map, float_precision, storage_options, dtype_backend)\u001b[0m\n\u001b[1;32m   1024\u001b[0m     \u001b[0mkwds\u001b[0m\u001b[0;34m.\u001b[0m\u001b[0mupdate\u001b[0m\u001b[0;34m(\u001b[0m\u001b[0mkwds_defaults\u001b[0m\u001b[0;34m)\u001b[0m\u001b[0;34m\u001b[0m\u001b[0;34m\u001b[0m\u001b[0m\n\u001b[1;32m   1025\u001b[0m \u001b[0;34m\u001b[0m\u001b[0m\n\u001b[0;32m-> 1026\u001b[0;31m     \u001b[0;32mreturn\u001b[0m \u001b[0m_read\u001b[0m\u001b[0;34m(\u001b[0m\u001b[0mfilepath_or_buffer\u001b[0m\u001b[0;34m,\u001b[0m \u001b[0mkwds\u001b[0m\u001b[0;34m)\u001b[0m\u001b[0;34m\u001b[0m\u001b[0;34m\u001b[0m\u001b[0m\n\u001b[0m\u001b[1;32m   1027\u001b[0m \u001b[0;34m\u001b[0m\u001b[0m\n\u001b[1;32m   1028\u001b[0m \u001b[0;34m\u001b[0m\u001b[0m\n",
            "\u001b[0;32m/usr/local/lib/python3.11/dist-packages/pandas/io/parsers/readers.py\u001b[0m in \u001b[0;36m_read\u001b[0;34m(filepath_or_buffer, kwds)\u001b[0m\n\u001b[1;32m    618\u001b[0m \u001b[0;34m\u001b[0m\u001b[0m\n\u001b[1;32m    619\u001b[0m     \u001b[0;31m# Create the parser.\u001b[0m\u001b[0;34m\u001b[0m\u001b[0;34m\u001b[0m\u001b[0m\n\u001b[0;32m--> 620\u001b[0;31m     \u001b[0mparser\u001b[0m \u001b[0;34m=\u001b[0m \u001b[0mTextFileReader\u001b[0m\u001b[0;34m(\u001b[0m\u001b[0mfilepath_or_buffer\u001b[0m\u001b[0;34m,\u001b[0m \u001b[0;34m**\u001b[0m\u001b[0mkwds\u001b[0m\u001b[0;34m)\u001b[0m\u001b[0;34m\u001b[0m\u001b[0;34m\u001b[0m\u001b[0m\n\u001b[0m\u001b[1;32m    621\u001b[0m \u001b[0;34m\u001b[0m\u001b[0m\n\u001b[1;32m    622\u001b[0m     \u001b[0;32mif\u001b[0m \u001b[0mchunksize\u001b[0m \u001b[0;32mor\u001b[0m \u001b[0miterator\u001b[0m\u001b[0;34m:\u001b[0m\u001b[0;34m\u001b[0m\u001b[0;34m\u001b[0m\u001b[0m\n",
            "\u001b[0;32m/usr/local/lib/python3.11/dist-packages/pandas/io/parsers/readers.py\u001b[0m in \u001b[0;36m__init__\u001b[0;34m(self, f, engine, **kwds)\u001b[0m\n\u001b[1;32m   1618\u001b[0m \u001b[0;34m\u001b[0m\u001b[0m\n\u001b[1;32m   1619\u001b[0m         \u001b[0mself\u001b[0m\u001b[0;34m.\u001b[0m\u001b[0mhandles\u001b[0m\u001b[0;34m:\u001b[0m \u001b[0mIOHandles\u001b[0m \u001b[0;34m|\u001b[0m \u001b[0;32mNone\u001b[0m \u001b[0;34m=\u001b[0m \u001b[0;32mNone\u001b[0m\u001b[0;34m\u001b[0m\u001b[0;34m\u001b[0m\u001b[0m\n\u001b[0;32m-> 1620\u001b[0;31m         \u001b[0mself\u001b[0m\u001b[0;34m.\u001b[0m\u001b[0m_engine\u001b[0m \u001b[0;34m=\u001b[0m \u001b[0mself\u001b[0m\u001b[0;34m.\u001b[0m\u001b[0m_make_engine\u001b[0m\u001b[0;34m(\u001b[0m\u001b[0mf\u001b[0m\u001b[0;34m,\u001b[0m \u001b[0mself\u001b[0m\u001b[0;34m.\u001b[0m\u001b[0mengine\u001b[0m\u001b[0;34m)\u001b[0m\u001b[0;34m\u001b[0m\u001b[0;34m\u001b[0m\u001b[0m\n\u001b[0m\u001b[1;32m   1621\u001b[0m \u001b[0;34m\u001b[0m\u001b[0m\n\u001b[1;32m   1622\u001b[0m     \u001b[0;32mdef\u001b[0m \u001b[0mclose\u001b[0m\u001b[0;34m(\u001b[0m\u001b[0mself\u001b[0m\u001b[0;34m)\u001b[0m \u001b[0;34m->\u001b[0m \u001b[0;32mNone\u001b[0m\u001b[0;34m:\u001b[0m\u001b[0;34m\u001b[0m\u001b[0;34m\u001b[0m\u001b[0m\n",
            "\u001b[0;32m/usr/local/lib/python3.11/dist-packages/pandas/io/parsers/readers.py\u001b[0m in \u001b[0;36m_make_engine\u001b[0;34m(self, f, engine)\u001b[0m\n\u001b[1;32m   1878\u001b[0m                 \u001b[0;32mif\u001b[0m \u001b[0;34m\"b\"\u001b[0m \u001b[0;32mnot\u001b[0m \u001b[0;32min\u001b[0m \u001b[0mmode\u001b[0m\u001b[0;34m:\u001b[0m\u001b[0;34m\u001b[0m\u001b[0;34m\u001b[0m\u001b[0m\n\u001b[1;32m   1879\u001b[0m                     \u001b[0mmode\u001b[0m \u001b[0;34m+=\u001b[0m \u001b[0;34m\"b\"\u001b[0m\u001b[0;34m\u001b[0m\u001b[0;34m\u001b[0m\u001b[0m\n\u001b[0;32m-> 1880\u001b[0;31m             self.handles = get_handle(\n\u001b[0m\u001b[1;32m   1881\u001b[0m                 \u001b[0mf\u001b[0m\u001b[0;34m,\u001b[0m\u001b[0;34m\u001b[0m\u001b[0;34m\u001b[0m\u001b[0m\n\u001b[1;32m   1882\u001b[0m                 \u001b[0mmode\u001b[0m\u001b[0;34m,\u001b[0m\u001b[0;34m\u001b[0m\u001b[0;34m\u001b[0m\u001b[0m\n",
            "\u001b[0;32m/usr/local/lib/python3.11/dist-packages/pandas/io/common.py\u001b[0m in \u001b[0;36mget_handle\u001b[0;34m(path_or_buf, mode, encoding, compression, memory_map, is_text, errors, storage_options)\u001b[0m\n\u001b[1;32m    871\u001b[0m         \u001b[0;32mif\u001b[0m \u001b[0mioargs\u001b[0m\u001b[0;34m.\u001b[0m\u001b[0mencoding\u001b[0m \u001b[0;32mand\u001b[0m \u001b[0;34m\"b\"\u001b[0m \u001b[0;32mnot\u001b[0m \u001b[0;32min\u001b[0m \u001b[0mioargs\u001b[0m\u001b[0;34m.\u001b[0m\u001b[0mmode\u001b[0m\u001b[0;34m:\u001b[0m\u001b[0;34m\u001b[0m\u001b[0;34m\u001b[0m\u001b[0m\n\u001b[1;32m    872\u001b[0m             \u001b[0;31m# Encoding\u001b[0m\u001b[0;34m\u001b[0m\u001b[0;34m\u001b[0m\u001b[0m\n\u001b[0;32m--> 873\u001b[0;31m             handle = open(\n\u001b[0m\u001b[1;32m    874\u001b[0m                 \u001b[0mhandle\u001b[0m\u001b[0;34m,\u001b[0m\u001b[0;34m\u001b[0m\u001b[0;34m\u001b[0m\u001b[0m\n\u001b[1;32m    875\u001b[0m                 \u001b[0mioargs\u001b[0m\u001b[0;34m.\u001b[0m\u001b[0mmode\u001b[0m\u001b[0;34m,\u001b[0m\u001b[0;34m\u001b[0m\u001b[0;34m\u001b[0m\u001b[0m\n",
            "\u001b[0;31mFileNotFoundError\u001b[0m: [Errno 2] No such file or directory: 'diabetes_prediction_dataset.csv'"
          ]
        }
      ],
      "source": [
        "import pandas as pd\n",
        "\n",
        "# Carregar o arquivo CSV do dataset em um DataFrame pandas\n",
        "dataset = pd.read_csv('diabetes_prediction_dataset.csv')"
      ]
    },
    {
      "cell_type": "code",
      "execution_count": 2,
      "id": "ef83b532",
      "metadata": {
        "id": "ef83b532",
        "colab": {
          "base_uri": "https://localhost:8080/",
          "height": 158
        },
        "outputId": "d55936ea-b54d-4488-8cdc-f4f7132b36c3"
      },
      "outputs": [
        {
          "output_type": "error",
          "ename": "NameError",
          "evalue": "name 'dataset' is not defined",
          "traceback": [
            "\u001b[0;31m---------------------------------------------------------------------------\u001b[0m",
            "\u001b[0;31mNameError\u001b[0m                                 Traceback (most recent call last)",
            "\u001b[0;32m<ipython-input-2-e9c65a8744f9>\u001b[0m in \u001b[0;36m<cell line: 0>\u001b[0;34m()\u001b[0m\n\u001b[1;32m      1\u001b[0m \u001b[0;31m# Visualizar as primeiras linhas do DataFrame para entender a estrutura dos dados\u001b[0m\u001b[0;34m\u001b[0m\u001b[0;34m\u001b[0m\u001b[0m\n\u001b[0;32m----> 2\u001b[0;31m \u001b[0mdataset\u001b[0m\u001b[0;34m.\u001b[0m\u001b[0mhead\u001b[0m\u001b[0;34m(\u001b[0m\u001b[0;34m)\u001b[0m\u001b[0;34m\u001b[0m\u001b[0;34m\u001b[0m\u001b[0m\n\u001b[0m",
            "\u001b[0;31mNameError\u001b[0m: name 'dataset' is not defined"
          ]
        }
      ],
      "source": [
        "# Visualizar as primeiras linhas do DataFrame para entender a estrutura dos dados\n",
        "dataset.head()"
      ]
    },
    {
      "cell_type": "code",
      "execution_count": 3,
      "id": "a3014577",
      "metadata": {
        "colab": {
          "base_uri": "https://localhost:8080/",
          "height": 211
        },
        "id": "a3014577",
        "outputId": "1626ac59-c7dd-40ce-f3c4-ba51931ca69a"
      },
      "outputs": [
        {
          "output_type": "error",
          "ename": "NameError",
          "evalue": "name 'dataset' is not defined",
          "traceback": [
            "\u001b[0;31m---------------------------------------------------------------------------\u001b[0m",
            "\u001b[0;31mNameError\u001b[0m                                 Traceback (most recent call last)",
            "\u001b[0;32m<ipython-input-3-e0929be20887>\u001b[0m in \u001b[0;36m<cell line: 0>\u001b[0;34m()\u001b[0m\n\u001b[1;32m      1\u001b[0m \u001b[0;31m# Definir a variável alvo (o que queremos prever)\u001b[0m\u001b[0;34m\u001b[0m\u001b[0;34m\u001b[0m\u001b[0m\n\u001b[0;32m----> 2\u001b[0;31m \u001b[0my\u001b[0m \u001b[0;34m=\u001b[0m \u001b[0mdataset\u001b[0m\u001b[0;34m[\u001b[0m\u001b[0;34m'diabetes'\u001b[0m\u001b[0;34m]\u001b[0m\u001b[0;34m\u001b[0m\u001b[0;34m\u001b[0m\u001b[0m\n\u001b[0m\u001b[1;32m      3\u001b[0m \u001b[0;34m\u001b[0m\u001b[0m\n\u001b[1;32m      4\u001b[0m \u001b[0;31m# Definir as variáveis preditoras (características que serão usadas para prever o alvo)\u001b[0m\u001b[0;34m\u001b[0m\u001b[0;34m\u001b[0m\u001b[0m\n\u001b[1;32m      5\u001b[0m \u001b[0;31m# Remove a coluna 'diabetes' do dataset para criar o conjunto de features\u001b[0m\u001b[0;34m\u001b[0m\u001b[0;34m\u001b[0m\u001b[0m\n",
            "\u001b[0;31mNameError\u001b[0m: name 'dataset' is not defined"
          ]
        }
      ],
      "source": [
        "# Definir a variável alvo (o que queremos prever)\n",
        "y = dataset['diabetes']\n",
        "\n",
        "# Definir as variáveis preditoras (características que serão usadas para prever o alvo)\n",
        "# Remove a coluna 'diabetes' do dataset para criar o conjunto de features\n",
        "x = dataset.drop('diabetes', axis=1)\n",
        "\n",
        "# Contar a frequência de cada valor na variável alvo 'diabetes'\n",
        "# Isso mostra o quão desbalanceado está o dataset em relação à classe diabetes (0 ou 1)\n",
        "print(dataset['diabetes'].value_counts())"
      ]
    },
    {
      "cell_type": "code",
      "execution_count": 4,
      "id": "EIIOBPn2hKMU",
      "metadata": {
        "colab": {
          "base_uri": "https://localhost:8080/",
          "height": 211
        },
        "id": "EIIOBPn2hKMU",
        "outputId": "d8a2f879-737f-41ec-da67-ce2435943983"
      },
      "outputs": [
        {
          "output_type": "error",
          "ename": "NameError",
          "evalue": "name 'dataset' is not defined",
          "traceback": [
            "\u001b[0;31m---------------------------------------------------------------------------\u001b[0m",
            "\u001b[0;31mNameError\u001b[0m                                 Traceback (most recent call last)",
            "\u001b[0;32m<ipython-input-4-59c009f6ec96>\u001b[0m in \u001b[0;36m<cell line: 0>\u001b[0;34m()\u001b[0m\n\u001b[1;32m      2\u001b[0m \u001b[0;34m\u001b[0m\u001b[0m\n\u001b[1;32m      3\u001b[0m \u001b[0;31m# Criar um gráfico de barras para visualizar a distribuição das classes (Normal vs Diabético)\u001b[0m\u001b[0;34m\u001b[0m\u001b[0;34m\u001b[0m\u001b[0m\n\u001b[0;32m----> 4\u001b[0;31m \u001b[0mdataset\u001b[0m\u001b[0;34m[\u001b[0m\u001b[0;34m'diabetes'\u001b[0m\u001b[0;34m]\u001b[0m\u001b[0;34m.\u001b[0m\u001b[0mvalue_counts\u001b[0m\u001b[0;34m(\u001b[0m\u001b[0;34m)\u001b[0m\u001b[0;34m.\u001b[0m\u001b[0mplot\u001b[0m\u001b[0;34m(\u001b[0m\u001b[0mkind\u001b[0m\u001b[0;34m=\u001b[0m\u001b[0;34m'bar'\u001b[0m\u001b[0;34m,\u001b[0m \u001b[0mcolor\u001b[0m\u001b[0;34m=\u001b[0m\u001b[0;34m[\u001b[0m\u001b[0;34m'green'\u001b[0m\u001b[0;34m,\u001b[0m \u001b[0;34m'red'\u001b[0m\u001b[0;34m]\u001b[0m\u001b[0;34m)\u001b[0m\u001b[0;34m\u001b[0m\u001b[0;34m\u001b[0m\u001b[0m\n\u001b[0m\u001b[1;32m      5\u001b[0m \u001b[0;34m\u001b[0m\u001b[0m\n\u001b[1;32m      6\u001b[0m \u001b[0;31m# Adicionar título e rótulos aos eixos do gráfico\u001b[0m\u001b[0;34m\u001b[0m\u001b[0;34m\u001b[0m\u001b[0m\n",
            "\u001b[0;31mNameError\u001b[0m: name 'dataset' is not defined"
          ]
        }
      ],
      "source": [
        "import matplotlib.pyplot as plt\n",
        "\n",
        "# Criar um gráfico de barras para visualizar a distribuição das classes (Normal vs Diabético)\n",
        "dataset['diabetes'].value_counts().plot(kind='bar', color=['green', 'red'])\n",
        "\n",
        "# Adicionar título e rótulos aos eixos do gráfico\n",
        "plt.title('Distribuição das Classes (0 = Normal, 1 = Diabetico)')\n",
        "plt.xlabel('Classe')\n",
        "plt.ylabel('Frequência')\n",
        "\n",
        "# Definir os rótulos do eixo x para serem mais descritivos\n",
        "plt.xticks([0, 1], ['Normal', 'Diabetico'], rotation=0)\n",
        "\n",
        "# Adicionar linhas de grade ao eixo y para facilitar a leitura\n",
        "plt.grid(axis='y', linestyle='--', alpha=0.7)\n",
        "\n",
        "# Ajustar o layout para evitar que os rótulos se sobreponham\n",
        "plt.tight_layout()\n",
        "\n",
        "# Exibir o gráfico\n",
        "plt.show()"
      ]
    },
    {
      "cell_type": "code",
      "execution_count": 5,
      "id": "dcG83lE_SsYI",
      "metadata": {
        "id": "dcG83lE_SsYI",
        "colab": {
          "base_uri": "https://localhost:8080/",
          "height": 176
        },
        "outputId": "164fb5b1-a0eb-4313-b23e-5ba8da2d1a2a"
      },
      "outputs": [
        {
          "output_type": "error",
          "ename": "NameError",
          "evalue": "name 'dataset' is not defined",
          "traceback": [
            "\u001b[0;31m---------------------------------------------------------------------------\u001b[0m",
            "\u001b[0;31mNameError\u001b[0m                                 Traceback (most recent call last)",
            "\u001b[0;32m<ipython-input-5-e657979b83ee>\u001b[0m in \u001b[0;36m<cell line: 0>\u001b[0;34m()\u001b[0m\n\u001b[1;32m      2\u001b[0m \u001b[0;31m# Embora o value_counts anterior tenha mostrado que não há NaNs em 'diabetes',\u001b[0m\u001b[0;34m\u001b[0m\u001b[0;34m\u001b[0m\u001b[0m\n\u001b[1;32m      3\u001b[0m \u001b[0;31m# esta linha garante que, se houvesse, elas seriam removidas.\u001b[0m\u001b[0;34m\u001b[0m\u001b[0;34m\u001b[0m\u001b[0m\n\u001b[0;32m----> 4\u001b[0;31m \u001b[0mdf\u001b[0m \u001b[0;34m=\u001b[0m \u001b[0mdataset\u001b[0m\u001b[0;34m.\u001b[0m\u001b[0mdropna\u001b[0m\u001b[0;34m(\u001b[0m\u001b[0msubset\u001b[0m\u001b[0;34m=\u001b[0m\u001b[0;34m[\u001b[0m\u001b[0;34m'diabetes'\u001b[0m\u001b[0;34m]\u001b[0m\u001b[0;34m)\u001b[0m\u001b[0;34m\u001b[0m\u001b[0;34m\u001b[0m\u001b[0m\n\u001b[0m",
            "\u001b[0;31mNameError\u001b[0m: name 'dataset' is not defined"
          ]
        }
      ],
      "source": [
        "# Remover linhas onde o valor na coluna 'diabetes' é nulo (NaN)\n",
        "# Embora o value_counts anterior tenha mostrado que não há NaNs em 'diabetes',\n",
        "# esta linha garante que, se houvesse, elas seriam removidas.\n",
        "df = dataset.dropna(subset=['diabetes'])"
      ]
    },
    {
      "cell_type": "code",
      "execution_count": 6,
      "id": "ywhQu4uRhgVG",
      "metadata": {
        "colab": {
          "base_uri": "https://localhost:8080/",
          "height": 211
        },
        "id": "ywhQu4uRhgVG",
        "outputId": "4e9f30d7-f905-49f7-8652-7425b5edb079"
      },
      "outputs": [
        {
          "output_type": "error",
          "ename": "NameError",
          "evalue": "name 'dataset' is not defined",
          "traceback": [
            "\u001b[0;31m---------------------------------------------------------------------------\u001b[0m",
            "\u001b[0;31mNameError\u001b[0m                                 Traceback (most recent call last)",
            "\u001b[0;32m<ipython-input-6-d83217c90c46>\u001b[0m in \u001b[0;36m<cell line: 0>\u001b[0;34m()\u001b[0m\n\u001b[1;32m      5\u001b[0m \u001b[0;31m# Selecionar features (variáveis preditoras) e target (variável alvo) novamente,\u001b[0m\u001b[0;34m\u001b[0m\u001b[0;34m\u001b[0m\u001b[0m\n\u001b[1;32m      6\u001b[0m \u001b[0;31m# garantindo que o dataset original 'dataset' seja usado.\u001b[0m\u001b[0;34m\u001b[0m\u001b[0;34m\u001b[0m\u001b[0m\n\u001b[0;32m----> 7\u001b[0;31m \u001b[0mX\u001b[0m \u001b[0;34m=\u001b[0m \u001b[0mdataset\u001b[0m\u001b[0;34m.\u001b[0m\u001b[0mdrop\u001b[0m\u001b[0;34m(\u001b[0m\u001b[0mcolumns\u001b[0m\u001b[0;34m=\u001b[0m\u001b[0;34m'diabetes'\u001b[0m\u001b[0;34m)\u001b[0m\u001b[0;34m\u001b[0m\u001b[0;34m\u001b[0m\u001b[0m\n\u001b[0m\u001b[1;32m      8\u001b[0m \u001b[0my\u001b[0m \u001b[0;34m=\u001b[0m \u001b[0mdataset\u001b[0m\u001b[0;34m[\u001b[0m\u001b[0;34m'diabetes'\u001b[0m\u001b[0;34m]\u001b[0m\u001b[0;34m\u001b[0m\u001b[0;34m\u001b[0m\u001b[0m\n\u001b[1;32m      9\u001b[0m \u001b[0;34m\u001b[0m\u001b[0m\n",
            "\u001b[0;31mNameError\u001b[0m: name 'dataset' is not defined"
          ]
        }
      ],
      "source": [
        "from imblearn.over_sampling import SMOTE\n",
        "import numpy as np\n",
        "import pandas as pd\n",
        "\n",
        "# Selecionar features (variáveis preditoras) e target (variável alvo) novamente,\n",
        "# garantindo que o dataset original 'dataset' seja usado.\n",
        "X = dataset.drop(columns='diabetes')\n",
        "y = dataset['diabetes']\n",
        "\n",
        "# Aplicar One-Hot Encoding nas colunas categóricas ('gender', 'smoking_history')\n",
        "# Isso transforma variáveis categóricas em um formato numérico que os modelos podem entender.\n",
        "# drop_first=True remove a primeira categoria de cada coluna para evitar multicolinearidade.\n",
        "X = pd.get_dummies(X, columns=['gender', 'smoking_history'], drop_first=True)\n",
        "\n",
        "# Inicializar o SMOTE (Synthetic Minority Over-sampling Technique)\n",
        "# O SMOTE é usado para lidar com datasets desbalanceados, criando amostras sintéticas da classe minoritária.\n",
        "smote = SMOTE(random_state=42)\n",
        "\n",
        "# Aplicar SMOTE aos dados (neste caso, ao conjunto completo antes da divisão treino/teste)\n",
        "# Isso irá aumentar o número de exemplos da classe minoritária (diabéticos) para balancear com a majoritária (não diabéticos).\n",
        "X_resampled, y_resampled = smote.fit_resample(X, y)\n",
        "\n",
        "# Imprimir a contagem de valores na variável alvo após a aplicação do SMOTE\n",
        "# Isso confirma que as classes agora estão balanceadas.\n",
        "print(pd.Series(y_resampled).value_counts())"
      ]
    },
    {
      "cell_type": "code",
      "execution_count": 7,
      "id": "c7133eb4",
      "metadata": {
        "colab": {
          "base_uri": "https://localhost:8080/",
          "height": 211
        },
        "id": "c7133eb4",
        "outputId": "d79cf319-f5fc-4931-9bba-6c8e4740a1c3"
      },
      "outputs": [
        {
          "output_type": "error",
          "ename": "NameError",
          "evalue": "name 'X' is not defined",
          "traceback": [
            "\u001b[0;31m---------------------------------------------------------------------------\u001b[0m",
            "\u001b[0;31mNameError\u001b[0m                                 Traceback (most recent call last)",
            "\u001b[0;32m<ipython-input-7-450421804cf7>\u001b[0m in \u001b[0;36m<cell line: 0>\u001b[0;34m()\u001b[0m\n\u001b[1;32m      7\u001b[0m \u001b[0;31m# stratify=y: Garante que a proporção das classes na variável alvo (y) seja a mesma nos conjuntos de treino e teste\u001b[0m\u001b[0;34m\u001b[0m\u001b[0;34m\u001b[0m\u001b[0m\n\u001b[1;32m      8\u001b[0m X_train, X_test, y_train, y_test = train_test_split(\n\u001b[0;32m----> 9\u001b[0;31m     \u001b[0mX\u001b[0m\u001b[0;34m,\u001b[0m \u001b[0my\u001b[0m\u001b[0;34m,\u001b[0m \u001b[0mtest_size\u001b[0m\u001b[0;34m=\u001b[0m\u001b[0;36m0.3\u001b[0m\u001b[0;34m,\u001b[0m \u001b[0mrandom_state\u001b[0m\u001b[0;34m=\u001b[0m\u001b[0;36m42\u001b[0m\u001b[0;34m,\u001b[0m \u001b[0mstratify\u001b[0m\u001b[0;34m=\u001b[0m\u001b[0my\u001b[0m\u001b[0;34m\u001b[0m\u001b[0;34m\u001b[0m\u001b[0m\n\u001b[0m\u001b[1;32m     10\u001b[0m )\n\u001b[1;32m     11\u001b[0m \u001b[0;34m\u001b[0m\u001b[0m\n",
            "\u001b[0;31mNameError\u001b[0m: name 'X' is not defined"
          ]
        }
      ],
      "source": [
        "from sklearn.model_selection import train_test_split\n",
        "\n",
        "# Dividir o dataset em conjuntos de treino e teste\n",
        "# X: variáveis preditoras, y: variável alvo\n",
        "# test_size=0.3: 30% dos dados serão usados para teste, 70% para treino\n",
        "# random_state=42: Garante que a divisão seja a mesma sempre que o código for executado\n",
        "# stratify=y: Garante que a proporção das classes na variável alvo (y) seja a mesma nos conjuntos de treino e teste\n",
        "X_train, X_test, y_train, y_test = train_test_split(\n",
        "    X, y, test_size=0.3, random_state=42, stratify=y\n",
        ")\n",
        "\n",
        "# Imprimir a distribuição das classes nos conjuntos de treino e teste para verificar a estratificação\n",
        "print(\"Treino:\")\n",
        "print(y_train.value_counts(normalize=True))\n",
        "print(\"\\nTeste:\")\n",
        "print(y_test.value_counts(normalize=True))"
      ]
    },
    {
      "cell_type": "code",
      "execution_count": 8,
      "id": "59bb3fae",
      "metadata": {
        "id": "59bb3fae"
      },
      "outputs": [],
      "source": [
        "# Importar a função train_test_split novamente (já importada na célula anterior)\n",
        "from sklearn.model_selection import train_test_split"
      ]
    },
    {
      "cell_type": "code",
      "execution_count": 9,
      "id": "73e58b5d",
      "metadata": {
        "id": "73e58b5d",
        "colab": {
          "base_uri": "https://localhost:8080/",
          "height": 193
        },
        "outputId": "b5c43a51-d2ff-4e76-c814-f13bce5123c3"
      },
      "outputs": [
        {
          "output_type": "error",
          "ename": "NameError",
          "evalue": "name 'X' is not defined",
          "traceback": [
            "\u001b[0;31m---------------------------------------------------------------------------\u001b[0m",
            "\u001b[0;31mNameError\u001b[0m                                 Traceback (most recent call last)",
            "\u001b[0;32m<ipython-input-9-95640e81518a>\u001b[0m in \u001b[0;36m<cell line: 0>\u001b[0;34m()\u001b[0m\n\u001b[1;32m      2\u001b[0m \u001b[0;31m# Esta célula parece redundante e pode ser removida ou integrada à célula anterior.\u001b[0m\u001b[0;34m\u001b[0m\u001b[0;34m\u001b[0m\u001b[0m\n\u001b[1;32m      3\u001b[0m X_train, X_test, y_train, y_test = train_test_split(\n\u001b[0;32m----> 4\u001b[0;31m     \u001b[0mX\u001b[0m\u001b[0;34m,\u001b[0m \u001b[0my\u001b[0m\u001b[0;34m,\u001b[0m \u001b[0mtest_size\u001b[0m\u001b[0;34m=\u001b[0m\u001b[0;36m0.3\u001b[0m\u001b[0;34m,\u001b[0m \u001b[0mrandom_state\u001b[0m\u001b[0;34m=\u001b[0m\u001b[0;36m42\u001b[0m\u001b[0;34m,\u001b[0m \u001b[0mstratify\u001b[0m\u001b[0;34m=\u001b[0m\u001b[0my\u001b[0m\u001b[0;34m\u001b[0m\u001b[0;34m\u001b[0m\u001b[0m\n\u001b[0m\u001b[1;32m      5\u001b[0m )\n",
            "\u001b[0;31mNameError\u001b[0m: name 'X' is not defined"
          ]
        }
      ],
      "source": [
        "# Dividir o dataset em conjuntos de treino e teste novamente (já feito na célula c7133eb4)\n",
        "# Esta célula parece redundante e pode ser removida ou integrada à célula anterior.\n",
        "X_train, X_test, y_train, y_test = train_test_split(\n",
        "    X, y, test_size=0.3, random_state=42, stratify=y\n",
        ")"
      ]
    },
    {
      "cell_type": "code",
      "execution_count": 10,
      "id": "f2e54bc5",
      "metadata": {
        "id": "f2e54bc5",
        "colab": {
          "base_uri": "https://localhost:8080/",
          "height": 176
        },
        "outputId": "52c8d916-41c3-4d99-e16a-19a1f085720e"
      },
      "outputs": [
        {
          "output_type": "error",
          "ename": "NameError",
          "evalue": "name 'X_train' is not defined",
          "traceback": [
            "\u001b[0;31m---------------------------------------------------------------------------\u001b[0m",
            "\u001b[0;31mNameError\u001b[0m                                 Traceback (most recent call last)",
            "\u001b[0;32m<ipython-input-10-89c0486ee285>\u001b[0m in \u001b[0;36m<cell line: 0>\u001b[0;34m()\u001b[0m\n\u001b[1;32m      8\u001b[0m \u001b[0;31m# Aplicar SMOTE apenas no conjunto de treino (X_train, y_train)\u001b[0m\u001b[0;34m\u001b[0m\u001b[0;34m\u001b[0m\u001b[0m\n\u001b[1;32m      9\u001b[0m \u001b[0;31m# Isso é crucial para evitar vazamento de dados do conjunto de teste para o treino.\u001b[0m\u001b[0;34m\u001b[0m\u001b[0;34m\u001b[0m\u001b[0m\n\u001b[0;32m---> 10\u001b[0;31m \u001b[0mX_train_resampled\u001b[0m\u001b[0;34m,\u001b[0m \u001b[0my_train_resampled\u001b[0m \u001b[0;34m=\u001b[0m \u001b[0msmote\u001b[0m\u001b[0;34m.\u001b[0m\u001b[0mfit_resample\u001b[0m\u001b[0;34m(\u001b[0m\u001b[0mX_train\u001b[0m\u001b[0;34m,\u001b[0m \u001b[0my_train\u001b[0m\u001b[0;34m)\u001b[0m\u001b[0;34m\u001b[0m\u001b[0;34m\u001b[0m\u001b[0m\n\u001b[0m",
            "\u001b[0;31mNameError\u001b[0m: name 'X_train' is not defined"
          ]
        }
      ],
      "source": [
        "from imblearn.over_sampling import SMOTE\n",
        "\n",
        "# Inicializar o SMOTE (já inicializado anteriormente na célula ywhQu4uRhgVG)\n",
        "# Esta célula inicializa o SMOTE novamente, o que é aceitável se você quiser\n",
        "# aplicar SMOTE apenas no conjunto de treino, como é a prática comum.\n",
        "smote = SMOTE(random_state=42)\n",
        "\n",
        "# Aplicar SMOTE apenas no conjunto de treino (X_train, y_train)\n",
        "# Isso é crucial para evitar vazamento de dados do conjunto de teste para o treino.\n",
        "X_train_resampled, y_train_resampled = smote.fit_resample(X_train, y_train)"
      ]
    },
    {
      "cell_type": "code",
      "execution_count": 11,
      "id": "228d34ed",
      "metadata": {
        "id": "228d34ed",
        "colab": {
          "base_uri": "https://localhost:8080/",
          "height": 211
        },
        "outputId": "1f3df7d7-047d-421f-c1c0-529a71ea65c7"
      },
      "outputs": [
        {
          "output_type": "error",
          "ename": "NameError",
          "evalue": "name 'X_train_resampled' is not defined",
          "traceback": [
            "\u001b[0;31m---------------------------------------------------------------------------\u001b[0m",
            "\u001b[0;31mNameError\u001b[0m                                 Traceback (most recent call last)",
            "\u001b[0;32m<ipython-input-11-64f9f53b8a9c>\u001b[0m in \u001b[0;36m<cell line: 0>\u001b[0;34m()\u001b[0m\n\u001b[1;32m      9\u001b[0m \u001b[0;34m\u001b[0m\u001b[0m\n\u001b[1;32m     10\u001b[0m \u001b[0;31m# Treinar o modelo Random Forest com os dados de treino reamostrados pelo SMOTE\u001b[0m\u001b[0;34m\u001b[0m\u001b[0;34m\u001b[0m\u001b[0m\n\u001b[0;32m---> 11\u001b[0;31m \u001b[0mrf\u001b[0m\u001b[0;34m.\u001b[0m\u001b[0mfit\u001b[0m\u001b[0;34m(\u001b[0m\u001b[0mX_train_resampled\u001b[0m\u001b[0;34m,\u001b[0m \u001b[0my_train_resampled\u001b[0m\u001b[0;34m)\u001b[0m\u001b[0;34m\u001b[0m\u001b[0;34m\u001b[0m\u001b[0m\n\u001b[0m\u001b[1;32m     12\u001b[0m \u001b[0;34m\u001b[0m\u001b[0m\n\u001b[1;32m     13\u001b[0m \u001b[0;31m# Fazer previsões no conjunto de teste (não reamostrado)\u001b[0m\u001b[0;34m\u001b[0m\u001b[0;34m\u001b[0m\u001b[0m\n",
            "\u001b[0;31mNameError\u001b[0m: name 'X_train_resampled' is not defined"
          ]
        }
      ],
      "source": [
        "# Modelo 1: Random Forest\n",
        "\n",
        "from sklearn.ensemble import RandomForestClassifier\n",
        "from sklearn.metrics import classification_report, confusion_matrix\n",
        "\n",
        "# Inicializar o modelo Random Forest\n",
        "# random_state=42 garante reprodutibilidade dos resultados\n",
        "rf = RandomForestClassifier(random_state=42)\n",
        "\n",
        "# Treinar o modelo Random Forest com os dados de treino reamostrados pelo SMOTE\n",
        "rf.fit(X_train_resampled, y_train_resampled)\n",
        "\n",
        "# Fazer previsões no conjunto de teste (não reamostrado)\n",
        "y_pred_rf = rf.predict(X_test)\n",
        "\n",
        "# Avaliar o desempenho do modelo Random Forest\n",
        "print(\"Random Forest\")\n",
        "# Imprimir a matriz de confusão: mostra o número de previsões corretas e incorretas para cada classe\n",
        "print(confusion_matrix(y_test, y_pred_rf))\n",
        "# Imprimir o relatório de classificação: inclui precisão, recall, f1-score e suporte para cada classe\n",
        "print(classification_report(y_test, y_pred_rf, digits=4))"
      ]
    },
    {
      "cell_type": "code",
      "execution_count": 12,
      "id": "9145b6c2",
      "metadata": {
        "id": "9145b6c2",
        "colab": {
          "base_uri": "https://localhost:8080/",
          "height": 211
        },
        "outputId": "535652c0-bbee-448e-ce3a-0ffa5387c77d"
      },
      "outputs": [
        {
          "output_type": "error",
          "ename": "NameError",
          "evalue": "name 'X_train_resampled' is not defined",
          "traceback": [
            "\u001b[0;31m---------------------------------------------------------------------------\u001b[0m",
            "\u001b[0;31mNameError\u001b[0m                                 Traceback (most recent call last)",
            "\u001b[0;32m<ipython-input-12-e020a25ba26f>\u001b[0m in \u001b[0;36m<cell line: 0>\u001b[0;34m()\u001b[0m\n\u001b[1;32m      8\u001b[0m \u001b[0;34m\u001b[0m\u001b[0m\n\u001b[1;32m      9\u001b[0m \u001b[0;31m# Treinar o modelo de Regressão Logística com os dados de treino reamostrados pelo SMOTE\u001b[0m\u001b[0;34m\u001b[0m\u001b[0;34m\u001b[0m\u001b[0m\n\u001b[0;32m---> 10\u001b[0;31m \u001b[0mlr\u001b[0m\u001b[0;34m.\u001b[0m\u001b[0mfit\u001b[0m\u001b[0;34m(\u001b[0m\u001b[0mX_train_resampled\u001b[0m\u001b[0;34m,\u001b[0m \u001b[0my_train_resampled\u001b[0m\u001b[0;34m)\u001b[0m\u001b[0;34m\u001b[0m\u001b[0;34m\u001b[0m\u001b[0m\n\u001b[0m\u001b[1;32m     11\u001b[0m \u001b[0;34m\u001b[0m\u001b[0m\n\u001b[1;32m     12\u001b[0m \u001b[0;31m# Fazer previsões no conjunto de teste (não reamostrado)\u001b[0m\u001b[0;34m\u001b[0m\u001b[0;34m\u001b[0m\u001b[0m\n",
            "\u001b[0;31mNameError\u001b[0m: name 'X_train_resampled' is not defined"
          ]
        }
      ],
      "source": [
        "# Modelo 2: Regressão Logística\n",
        "\n",
        "from sklearn.linear_model import LogisticRegression\n",
        "\n",
        "# Inicializar o modelo de Regressão Logística\n",
        "# max_iter=1000 aumenta o número máximo de iterações para o algoritmo convergir\n",
        "lr = LogisticRegression(max_iter=1000)\n",
        "\n",
        "# Treinar o modelo de Regressão Logística com os dados de treino reamostrados pelo SMOTE\n",
        "lr.fit(X_train_resampled, y_train_resampled)\n",
        "\n",
        "# Fazer previsões no conjunto de teste (não reamostrado)\n",
        "y_pred_lr = lr.predict(X_test)\n",
        "\n",
        "# Avaliar o desempenho do modelo de Regressão Logística\n",
        "print(\"Logistic Regression\")\n",
        "# Imprimir a matriz de confusão\n",
        "print(confusion_matrix(y_test, y_pred_lr))\n",
        "# Imprimir o relatório de classificação\n",
        "print(classification_report(y_test, y_pred_lr, digits=4))"
      ]
    },
    {
      "cell_type": "code",
      "execution_count": 13,
      "id": "a918e2b1",
      "metadata": {
        "colab": {
          "base_uri": "https://localhost:8080/",
          "height": 211
        },
        "id": "a918e2b1",
        "outputId": "2043e468-864f-43a1-b3d8-752b5eb8c9fd"
      },
      "outputs": [
        {
          "output_type": "error",
          "ename": "NameError",
          "evalue": "name 'y_test' is not defined",
          "traceback": [
            "\u001b[0;31m---------------------------------------------------------------------------\u001b[0m",
            "\u001b[0;31mNameError\u001b[0m                                 Traceback (most recent call last)",
            "\u001b[0;32m<ipython-input-13-0d06378e2c04>\u001b[0m in \u001b[0;36m<cell line: 0>\u001b[0;34m()\u001b[0m\n\u001b[1;32m      2\u001b[0m \u001b[0;34m\u001b[0m\u001b[0m\n\u001b[1;32m      3\u001b[0m \u001b[0;31m# Calcular a acurácia para o modelo Random Forest\u001b[0m\u001b[0;34m\u001b[0m\u001b[0;34m\u001b[0m\u001b[0m\n\u001b[0;32m----> 4\u001b[0;31m \u001b[0macc_rf\u001b[0m \u001b[0;34m=\u001b[0m \u001b[0maccuracy_score\u001b[0m\u001b[0;34m(\u001b[0m\u001b[0my_test\u001b[0m\u001b[0;34m,\u001b[0m \u001b[0my_pred_rf\u001b[0m\u001b[0;34m)\u001b[0m\u001b[0;34m\u001b[0m\u001b[0;34m\u001b[0m\u001b[0m\n\u001b[0m\u001b[1;32m      5\u001b[0m \u001b[0;31m# Calcular a acurácia para o modelo de Regressão Logística\u001b[0m\u001b[0;34m\u001b[0m\u001b[0;34m\u001b[0m\u001b[0m\n\u001b[1;32m      6\u001b[0m \u001b[0macc_lr\u001b[0m \u001b[0;34m=\u001b[0m \u001b[0maccuracy_score\u001b[0m\u001b[0;34m(\u001b[0m\u001b[0my_test\u001b[0m\u001b[0;34m,\u001b[0m \u001b[0my_pred_lr\u001b[0m\u001b[0;34m)\u001b[0m\u001b[0;34m\u001b[0m\u001b[0;34m\u001b[0m\u001b[0m\n",
            "\u001b[0;31mNameError\u001b[0m: name 'y_test' is not defined"
          ]
        }
      ],
      "source": [
        "from sklearn.metrics import accuracy_score\n",
        "\n",
        "# Calcular a acurácia para o modelo Random Forest\n",
        "acc_rf = accuracy_score(y_test, y_pred_rf)\n",
        "# Calcular a acurácia para o modelo de Regressão Logística\n",
        "acc_lr = accuracy_score(y_test, y_pred_lr)\n",
        "\n",
        "# Imprimir as acurácias arredondadas para 4 casas decimais\n",
        "print(f\"Acurácia - Random Forest: {acc_rf:.4f}\")\n",
        "print(f\"Acurácia - Regressão Logística: {acc_lr:.4f}\")"
      ]
    },
    {
      "cell_type": "code",
      "execution_count": 14,
      "id": "dh6RK1dSk8ZU",
      "metadata": {
        "colab": {
          "base_uri": "https://localhost:8080/",
          "height": 211
        },
        "id": "dh6RK1dSk8ZU",
        "outputId": "3ad2c322-986b-4df5-d034-c62132974b26"
      },
      "outputs": [
        {
          "output_type": "error",
          "ename": "NameError",
          "evalue": "name 'X' is not defined",
          "traceback": [
            "\u001b[0;31m---------------------------------------------------------------------------\u001b[0m",
            "\u001b[0;31mNameError\u001b[0m                                 Traceback (most recent call last)",
            "\u001b[0;32m<ipython-input-14-f4a403343a18>\u001b[0m in \u001b[0;36m<cell line: 0>\u001b[0;34m()\u001b[0m\n\u001b[1;32m      9\u001b[0m   \u001b[0;31m# 1. Dividir o dataset em treino e teste com uma nova seed a cada iteração\u001b[0m\u001b[0;34m\u001b[0m\u001b[0;34m\u001b[0m\u001b[0m\n\u001b[1;32m     10\u001b[0m   X_train, X_test, y_train, y_test = train_test_split(\n\u001b[0;32m---> 11\u001b[0;31m       \u001b[0mX\u001b[0m\u001b[0;34m,\u001b[0m \u001b[0my\u001b[0m\u001b[0;34m,\u001b[0m \u001b[0mtest_size\u001b[0m\u001b[0;34m=\u001b[0m\u001b[0;36m0.3\u001b[0m\u001b[0;34m,\u001b[0m \u001b[0mstratify\u001b[0m\u001b[0;34m=\u001b[0m\u001b[0my\u001b[0m\u001b[0;34m,\u001b[0m \u001b[0mrandom_state\u001b[0m\u001b[0;34m=\u001b[0m\u001b[0mseed\u001b[0m\u001b[0;34m\u001b[0m\u001b[0;34m\u001b[0m\u001b[0m\n\u001b[0m\u001b[1;32m     12\u001b[0m   )\n\u001b[1;32m     13\u001b[0m \u001b[0;34m\u001b[0m\u001b[0m\n",
            "\u001b[0;31mNameError\u001b[0m: name 'X' is not defined"
          ]
        }
      ],
      "source": [
        "import numpy as np\n",
        "\n",
        "# Listas para armazenar as acurácias de cada modelo em cada iteração\n",
        "acc_rf_list = []\n",
        "acc_lr_list = []\n",
        "\n",
        "# Loop para repetir o processo de treino e avaliação 30 vezes com seeds diferentes\n",
        "for seed in range(30):\n",
        "  # 1. Dividir o dataset em treino e teste com uma nova seed a cada iteração\n",
        "  X_train, X_test, y_train, y_test = train_test_split(\n",
        "      X, y, test_size=0.3, stratify=y, random_state=seed\n",
        "  )\n",
        "\n",
        "  # 2. Aplicar SMOTE apenas no conjunto de treino com a mesma seed da divisão\n",
        "  smote = SMOTE(random_state=seed)\n",
        "  X_train_resampled, y_train_resampled = smote.fit_resample(X_train, y_train)\n",
        "\n",
        "  # 3. Treinar e avaliar o modelo Random Forest\n",
        "  rf = RandomForestClassifier(random_state=seed)\n",
        "  rf.fit(X_train_resampled, y_train_resampled)\n",
        "  y_pred_rf = rf.predict(X_test)\n",
        "  # Adicionar a acurácia à lista\n",
        "  acc_rf_list.append(accuracy_score(y_test, y_pred_rf))\n",
        "\n",
        "  # 4. Treinar e avaliar o modelo de Regressão Logística\n",
        "  lr = LogisticRegression(max_iter=1000)\n",
        "  lr.fit(X_train_resampled, y_train_resampled)\n",
        "  y_pred_lr = lr.predict(X_test)\n",
        "  # Adicionar a acurácia à lista\n",
        "  acc_lr_list.append(accuracy_score(y_test, y_pred_lr))\n",
        "\n",
        "# 5. Calcular estatísticas (média e desvio padrão) das acurácias obtidas nas 30 iterações\n",
        "mean_rf = np.mean(acc_rf_list)\n",
        "std_rf = np.std(acc_rf_list)\n",
        "\n",
        "mean_lr = np.mean(acc_lr_list)\n",
        "std_lr = np.std(acc_lr_list)\n",
        "\n",
        "# Imprimir as estatísticas\n",
        "print(\"Random Forest - Média da acurácia:\", round(mean_rf, 4), \"| Desvio padrão:\", round(std_rf, 4))\n",
        "print(\"Logistic Regression - Média da acurácia:\", round(mean_lr, 4), \"| Desvio padrão:\", round(std_lr, 4))"
      ]
    },
    {
      "cell_type": "code",
      "source": [
        "import pickle\n",
        "from sklearn.ensemble import RandomForestClassifier\n",
        "from imblearn.over_sampling import SMOTE\n",
        "from sklearn.model_selection import train_test_split\n",
        "import pandas as pd\n",
        "\n",
        "# Selecionar a variável alvo novamente\n",
        "y = dataset['diabetes']\n",
        "\n",
        "# Verifica e remove linhas com valor NaN na variável alvo 'y'\n",
        "# Isso garante que o conjunto de dados usado para o modelo não tenha valores faltantes na variável de destino.\n",
        "nan_mask = y.isna()\n",
        "X = X[~nan_mask]\n",
        "y = y[~nan_mask]\n",
        "\n",
        "# Dividir o dataset em conjuntos de treino e teste usando a seed 42 para reprodutibilidade\n",
        "X_train, X_test, y_train, y_test = train_test_split(\n",
        "    X, y, test_size=0.3, stratify=y, random_state=42\n",
        ")\n",
        "\n",
        "# Aplicar SMOTE apenas no conjunto de treino para balancear as classes\n",
        "smote = SMOTE(random_state=42)\n",
        "X_train_resampled, y_train_resampled = smote.fit_resample(X_train, y_train)\n",
        "\n",
        "# Treinar o modelo final (Random Forest neste caso, pois teve melhor desempenho médio)\n",
        "best_model = RandomForestClassifier(random_state=42)\n",
        "best_model.fit(X_train_resampled, y_train_resampled)\n",
        "\n",
        "# Salvar o modelo treinado em um arquivo .pkl para uso posterior\n",
        "with open(\"modelo_diabetes.pkl\", \"wb\") as f:\n",
        "    pickle.dump(best_model, f)\n",
        "\n",
        "# Imprimir mensagem de confirmação\n",
        "print(\"Modelo salvo com sucesso como 'modelo_diabetes.pkl'\")"
      ],
      "metadata": {
        "colab": {
          "base_uri": "https://localhost:8080/",
          "height": 211
        },
        "id": "fv1GEeqOg62u",
        "outputId": "30ff638d-35be-4cb7-ae4d-40739e3931fa"
      },
      "id": "fv1GEeqOg62u",
      "execution_count": 15,
      "outputs": [
        {
          "output_type": "error",
          "ename": "NameError",
          "evalue": "name 'dataset' is not defined",
          "traceback": [
            "\u001b[0;31m---------------------------------------------------------------------------\u001b[0m",
            "\u001b[0;31mNameError\u001b[0m                                 Traceback (most recent call last)",
            "\u001b[0;32m<ipython-input-15-6afd1390cb4d>\u001b[0m in \u001b[0;36m<cell line: 0>\u001b[0;34m()\u001b[0m\n\u001b[1;32m      6\u001b[0m \u001b[0;34m\u001b[0m\u001b[0m\n\u001b[1;32m      7\u001b[0m \u001b[0;31m# Selecionar a variável alvo novamente\u001b[0m\u001b[0;34m\u001b[0m\u001b[0;34m\u001b[0m\u001b[0m\n\u001b[0;32m----> 8\u001b[0;31m \u001b[0my\u001b[0m \u001b[0;34m=\u001b[0m \u001b[0mdataset\u001b[0m\u001b[0;34m[\u001b[0m\u001b[0;34m'diabetes'\u001b[0m\u001b[0;34m]\u001b[0m\u001b[0;34m\u001b[0m\u001b[0;34m\u001b[0m\u001b[0m\n\u001b[0m\u001b[1;32m      9\u001b[0m \u001b[0;34m\u001b[0m\u001b[0m\n\u001b[1;32m     10\u001b[0m \u001b[0;31m# Verifica e remove linhas com valor NaN na variável alvo 'y'\u001b[0m\u001b[0;34m\u001b[0m\u001b[0;34m\u001b[0m\u001b[0m\n",
            "\u001b[0;31mNameError\u001b[0m: name 'dataset' is not defined"
          ]
        }
      ]
    },
    {
      "cell_type": "code",
      "source": [
        "# Instalar a biblioteca gradio para criar uma interface web para o modelo\n",
        "# O \"Requirement already satisfied\" no output indica que a biblioteca já está instalada.\n",
        "pip install gradio"
      ],
      "metadata": {
        "colab": {
          "base_uri": "https://localhost:8080/",
          "height": 106
        },
        "id": "3FYllL-YiDJF",
        "outputId": "adc4abf7-8b9d-4075-b0fe-56fa3fdb963d"
      },
      "id": "3FYllL-YiDJF",
      "execution_count": 16,
      "outputs": [
        {
          "output_type": "error",
          "ename": "SyntaxError",
          "evalue": "invalid syntax (<ipython-input-16-53ad4ea3f903>, line 3)",
          "traceback": [
            "\u001b[0;36m  File \u001b[0;32m\"<ipython-input-16-53ad4ea3f903>\"\u001b[0;36m, line \u001b[0;32m3\u001b[0m\n\u001b[0;31m    pip install gradio\u001b[0m\n\u001b[0m        ^\u001b[0m\n\u001b[0;31mSyntaxError\u001b[0m\u001b[0;31m:\u001b[0m invalid syntax\n"
          ]
        }
      ]
    },
    {
      "cell_type": "code",
      "source": [
        "import gradio as gr\n",
        "import pickle\n",
        "import pandas as pd\n",
        "\n",
        "# Carregar o modelo de diabetes treinado a partir do arquivo .pkl\n",
        "with open(\"modelo_diabetes.pkl\", \"rb\") as f:\n",
        "    modelo = pickle.load(f)\n",
        "\n",
        "# Definir a lista de colunas que o modelo espera como entrada\n",
        "colunas_modelo = [\n",
        "    'age', 'hypertension', 'heart_disease', 'bmi', 'HbA1c_level',\n",
        "    'blood_glucose_level', 'gender_Male', 'gender_Other',\n",
        "    'smoking_history_current', 'smoking_history_ever', 'smoking_history_former',\n",
        "    'smoking_history_never', 'smoking_history_not current'\n",
        "]\n",
        "\n",
        "# Definir a função que será executada pelo Gradio para fazer a previsão\n",
        "def prever_diabetes(genero, idade, hipertensao, doenca_cardiaca, tabagismo, imc, hba1c, glicemia):\n",
        "    # Codifica a entrada 'genero' em variáveis dummy (One-Hot Encoding)\n",
        "    gender_dummies = {\n",
        "        'gender_Male': 0,\n",
        "        'gender_Other': 0\n",
        "    }\n",
        "    if genero == \"Masculino\":\n",
        "        gender_dummies['gender_Male'] = 1\n",
        "    elif genero == \"Outro\":\n",
        "        gender_dummies['gender_Other'] = 1\n",
        "    # Se não é masculino nem outro, assume \"Feminino\" (gender_Male e gender_Other permanecem 0)\n",
        "\n",
        "    # Codifica a entrada 'tabagismo' em variáveis dummy (One-Hot Encoding)\n",
        "    smoking_dummies = {\n",
        "        'smoking_history_current': 0,\n",
        "        'smoking_history_ever': 0,\n",
        "        'smoking_history_former': 0,\n",
        "        'smoking_history_never': 0,\n",
        "        'smoking_history_not current': 0\n",
        "    }\n",
        "    # Mapeia as opções do Gradio para os nomes das colunas esperadas pelo modelo\n",
        "    mapa_tabagismo = {\n",
        "        \"Fumante atual\": 'smoking_history_current',\n",
        "        \"Já fumou\": 'smoking_history_ever',\n",
        "        \"Ex-fumante\": 'smoking_history_former',\n",
        "        \"Nunca fumou\": 'smoking_history_never',\n",
        "        \"Não é fumante atualmente\": 'smoking_history_not current'\n",
        "    }\n",
        "    # Define a coluna dummy correspondente ao histórico de tabagismo fornecido\n",
        "    if tabagismo in mapa_tabagismo:\n",
        "        smoking_dummies[mapa_tabagismo[tabagismo]] = 1\n",
        "\n",
        "    # Converte as entradas de sim/não para valores binários (0 ou 1)\n",
        "    hipertensao_bin = 1 if hipertensao == \"Sim\" else 0\n",
        "    doenca_cardiaca_bin = 1 if doenca_cardiaca == \"Sim\" else 0\n",
        "\n",
        "    # Monta um dicionário com todos os dados de entrada no formato esperado pelo modelo\n",
        "    dados_dict = {\n",
        "        'age': idade,\n",
        "        'hypertension': hipertensao_bin,\n",
        "        'heart_disease': doenca_cardiaca_bin,\n",
        "        'bmi': imc,\n",
        "        'HbA1c_level': hba1c,\n",
        "        'blood_glucose_level': glicemia,\n",
        "        **gender_dummies, # Adiciona as dummies de gênero ao dicionário\n",
        "        **smoking_dummies # Adiciona as dummies de tabagismo ao dicionário\n",
        "    }\n",
        "\n",
        "    # Cria um DataFrame pandas a partir do dicionário\n",
        "    # Garante que as colunas estejam na ordem correta que o modelo foi treinado\n",
        "    df = pd.DataFrame([dados_dict], columns=colunas_modelo)\n",
        "\n",
        "    # Faz a predição usando o modelo carregado\n",
        "    pred = modelo.predict(df)[0]\n",
        "\n",
        "    # Retorna o resultado da predição em um formato legível\n",
        "    return \"🔴 DIABETES DETECTADA\" if pred == 1 else \"🟢 Normal\"\n",
        "\n",
        "# Cria a interface Gradio\n",
        "interface = gr.Interface(\n",
        "    fn=prever_diabetes, # Função a ser executada\n",
        "    inputs=[ # Define os componentes de entrada da interface\n",
        "        gr.Radio([\"Feminino\", \"Masculino\", \"Outro\"], label=\"Gênero\", value=\"Feminino\"), # Rádio button para Gênero\n",
        "        gr.Number(label=\"Idade\", value=0), # Campo numérico para Idade\n",
        "        gr.Radio([\"Não\", \"Sim\"], label=\"Hipertensão\", value=\"Não\"), # Rádio button para Hipertensão\n",
        "        gr.Radio([\"Não\", \"Sim\"], label=\"Doença Cardíaca\", value=\"Não\"), # Rádio button para Doença Cardíaca\n",
        "        gr.Radio( # Rádio button para Histórico de Tabagismo\n",
        "            [\n",
        "                \"Nunca fumou\",\n",
        "                \"Ex-fumante\",\n",
        "                \"Fumante atual\",\n",
        "                \"Já fumou\",\n",
        "                \"Não é fumante atualmente\"\n",
        "            ],\n",
        "            label=\"Histórico de Tabagismo\",\n",
        "            value=\"Nunca fumou\"\n",
        "        ),\n",
        "        gr.Number(label=\"IMC (Índice de Massa Corporal)\", value=0), # Campo numérico para IMC\n",
        "        gr.Number(label=\"Nível de HbA1c (%)\", value=0), # Campo numérico para Nível de HbA1c\n",
        "        gr.Number(label=\"Nível de Glicemia (mg/dL)\", value=0) # Campo numérico para Nível de Glicemia\n",
        "    ],\n",
        "    outputs=gr.Textbox(label=\"Resultado da Predição\"), # Define o componente de saída (um campo de texto)\n",
        "    title=\"Previsor de Diabetes\", # Título da interface\n",
        "    description=\"Responda às perguntas abaixo para prever a chance de diabetes.\" # Descrição da interface\n",
        ")\n",
        "\n",
        "# Inicia a interface Gradio. O share=True é adicionado automaticamente no Colab.\n",
        "interface.launch()"
      ],
      "metadata": {
        "colab": {
          "base_uri": "https://localhost:8080/",
          "height": 383
        },
        "id": "nGimIxxZt7KZ",
        "outputId": "f8b23847-0ed4-45e1-f670-7806f2282d95"
      },
      "id": "nGimIxxZt7KZ",
      "execution_count": 17,
      "outputs": [
        {
          "output_type": "error",
          "ename": "ModuleNotFoundError",
          "evalue": "No module named 'gradio'",
          "traceback": [
            "\u001b[0;31m---------------------------------------------------------------------------\u001b[0m",
            "\u001b[0;31mModuleNotFoundError\u001b[0m                       Traceback (most recent call last)",
            "\u001b[0;32m<ipython-input-17-e7c36b2d80e1>\u001b[0m in \u001b[0;36m<cell line: 0>\u001b[0;34m()\u001b[0m\n\u001b[0;32m----> 1\u001b[0;31m \u001b[0;32mimport\u001b[0m \u001b[0mgradio\u001b[0m \u001b[0;32mas\u001b[0m \u001b[0mgr\u001b[0m\u001b[0;34m\u001b[0m\u001b[0;34m\u001b[0m\u001b[0m\n\u001b[0m\u001b[1;32m      2\u001b[0m \u001b[0;32mimport\u001b[0m \u001b[0mpickle\u001b[0m\u001b[0;34m\u001b[0m\u001b[0;34m\u001b[0m\u001b[0m\n\u001b[1;32m      3\u001b[0m \u001b[0;32mimport\u001b[0m \u001b[0mpandas\u001b[0m \u001b[0;32mas\u001b[0m \u001b[0mpd\u001b[0m\u001b[0;34m\u001b[0m\u001b[0;34m\u001b[0m\u001b[0m\n\u001b[1;32m      4\u001b[0m \u001b[0;34m\u001b[0m\u001b[0m\n\u001b[1;32m      5\u001b[0m \u001b[0;31m# Carregar o modelo de diabetes treinado a partir do arquivo .pkl\u001b[0m\u001b[0;34m\u001b[0m\u001b[0;34m\u001b[0m\u001b[0m\n",
            "\u001b[0;31mModuleNotFoundError\u001b[0m: No module named 'gradio'",
            "",
            "\u001b[0;31m---------------------------------------------------------------------------\u001b[0;32m\nNOTE: If your import is failing due to a missing package, you can\nmanually install dependencies using either !pip or !apt.\n\nTo view examples of installing some common dependencies, click the\n\"Open Examples\" button below.\n\u001b[0;31m---------------------------------------------------------------------------\u001b[0m\n"
          ],
          "errorDetails": {
            "actions": [
              {
                "action": "open_url",
                "actionText": "Open Examples",
                "url": "/notebooks/snippets/importing_libraries.ipynb"
              }
            ]
          }
        }
      ]
    },
    {
      "cell_type": "code",
      "metadata": {
        "id": "abbc7ead"
      },
      "source": [
        "from google.colab import files\n",
        "files.upload()"
      ],
      "id": "abbc7ead",
      "execution_count": null,
      "outputs": []
    }
  ],
  "metadata": {
    "colab": {
      "provenance": []
    },
    "kernelspec": {
      "display_name": "Python 3 (ipykernel)",
      "language": "python",
      "name": "python3"
    },
    "language_info": {
      "codemirror_mode": {
        "name": "ipython",
        "version": 3
      },
      "file_extension": ".py",
      "mimetype": "text/x-python",
      "name": "python",
      "nbconvert_exporter": "python",
      "pygments_lexer": "ipython3",
      "version": "3.9.13"
    }
  },
  "nbformat": 4,
  "nbformat_minor": 5
}